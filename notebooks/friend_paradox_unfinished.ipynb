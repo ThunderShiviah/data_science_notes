{
 "cells": [
  {
   "cell_type": "markdown",
   "metadata": {},
   "source": [
    "# Why your friends have more friends than you do\n",
    "\n",
    "## Relevant Links\n",
    "\n",
    "* [original paper by Scott L. Feld](http://cs.marlboro.edu/courses/spring2010/statistics/wiki/wiki.attachments/Why_Your_Friends_Have_More_Friends_Than_You_Do.pdf)\n",
    "\n",
    "* [article on the friendship paradox (aka 'class size paradox')](http://www.umasocialmedia.com/socialnetworks/glossary/class-size-paradox/)\n",
    "\n",
    "* [wiki](https://en.wikipedia.org/wiki/Friendship_paradox)\n",
    "\n",
    "## Overview\n",
    "\n",
    "If you look at the average number of friends each person in a group of friends has, you will find a lower number than if you had individually polled each friend about how many friends their friends have. \n",
    "\n",
    "## Computational demonstration\n",
    "* Hist class size example from Think stats.\n",
    "\n",
    "## Example using social media networks\n",
    "\n",
    "* [social networks wiki](https://en.wikipedia.org/wiki/Social_network)\n",
    "* facebook, linkedin, twitter, wikipedia\n",
    "\n",
    "See Example 9-15 and discussion in 'Mining the Social Web' (pg. 300) for an example of how to do this with facebook.\n",
    " \n",
    "## Mathematical derivation\n",
    "\n",
    "## Discussion and generalization\n",
    "* Centrality\n",
    "* Confounding variables\n",
    "* Pareto distribution\n",
    "\n",
    "## Further examples\n",
    "* [Social Network Sensors for Early Detection of Contagious Outbreaks](http://journals.plos.org/plosone/article?id=10.1371/journal.pone.0012948)\n"
   ]
  },
  {
   "cell_type": "code",
   "execution_count": null,
   "metadata": {
    "collapsed": true
   },
   "outputs": [],
   "source": []
  }
 ],
 "metadata": {
  "kernelspec": {
   "display_name": "Python 3",
   "language": "python",
   "name": "python3"
  },
  "language_info": {
   "codemirror_mode": {
    "name": "ipython",
    "version": 3
   },
   "file_extension": ".py",
   "mimetype": "text/x-python",
   "name": "python",
   "nbconvert_exporter": "python",
   "pygments_lexer": "ipython3",
   "version": "3.3.5"
  }
 },
 "nbformat": 4,
 "nbformat_minor": 0
}
